{
 "cells": [
  {
   "cell_type": "markdown",
   "metadata": {},
   "source": [
    "# Libraries\n",
    "***"
   ]
  },
  {
   "cell_type": "code",
   "execution_count": 6,
   "metadata": {
    "ExecuteTime": {
     "end_time": "2023-06-19T05:50:30.566581Z",
     "start_time": "2023-06-19T05:50:30.555612Z"
    }
   },
   "outputs": [],
   "source": [
    "import torch\n",
    "from torch import nn, optim\n",
    "import torch.nn.functional as F\n",
    "import torchaudio as ta\n",
    "from torchaudio import transforms\n",
    "from torch.utils.data import DataLoader, Dataset\n",
    "import sys\n",
    "\n",
    "import os, re, shutil, copy, zipfile, glob\n",
    "import pandas as pd\n",
    "import matplotlib.pyplot as plt\n",
    "import seaborn as sns\n",
    "import IPython.display as ipd\n",
    "from pathlib import Path\n",
    "\n",
    "from tqdm import tqdm, trange\n",
    "\n",
    "from pyjanitor import auto_toc\n",
    "toc = auto_toc()\n",
    "\n",
    "from pickling import *"
   ]
  },
  {
   "cell_type": "markdown",
   "metadata": {},
   "source": [
    "Let’s check if a CUDA GPU is available and select our device. Running\n",
    "the network on a GPU will greatly decrease the training/testing runtime.\n",
    "\n",
    "\n"
   ]
  },
  {
   "cell_type": "code",
   "execution_count": 7,
   "metadata": {
    "ExecuteTime": {
     "end_time": "2023-06-19T05:50:30.982051Z",
     "start_time": "2023-06-19T05:50:30.974498Z"
    }
   },
   "outputs": [
    {
     "name": "stdout",
     "output_type": "stream",
     "text": [
      "cuda\n"
     ]
    }
   ],
   "source": [
    "device = torch.device('cuda' if torch.cuda.is_available() else 'cpu')\n",
    "print(device)"
   ]
  },
  {
   "cell_type": "markdown",
   "metadata": {},
   "source": [
    "# Code Breakdown\n",
    "***"
   ]
  },
  {
   "cell_type": "markdown",
   "metadata": {},
   "source": [
    "### Unpacking the Dataset\n",
    "\n",
    "For reproducibility, upload the dataset .zip file on the same level as this notebook."
   ]
  },
  {
   "cell_type": "code",
   "execution_count": 19,
   "metadata": {
    "ExecuteTime": {
     "end_time": "2023-06-19T05:51:59.248110Z",
     "start_time": "2023-06-19T05:51:58.917095Z"
    }
   },
   "outputs": [],
   "source": [
    "zip_ = 'data.zip' # Replace with downloaded .zip from Kaggle\n",
    "with zipfile.ZipFile(zip_, 'r') as zip_ref:\n",
    "        zip_ref.extractall('.')\n",
    "        \n",
    "classes = [x.split('/')[-1] for x in glob.glob('./data/*')]"
   ]
  },
  {
   "cell_type": "markdown",
   "metadata": {
    "ExecuteTime": {
     "end_time": "2023-06-19T05:28:59.808691Z",
     "start_time": "2023-06-19T05:28:59.802804Z"
    }
   },
   "source": [
    "### Rename the Files\n",
    "\n",
    "Rename the .wav files for ease of use"
   ]
  },
  {
   "cell_type": "code",
   "execution_count": 20,
   "metadata": {
    "ExecuteTime": {
     "end_time": "2023-06-19T05:51:59.402129Z",
     "start_time": "2023-06-19T05:51:59.391603Z"
    }
   },
   "outputs": [],
   "source": [
    "# def create_classes(class_):\n",
    "#     \"\"\"Creates directory for each class\"\"\"\n",
    "#     dirs = './data'\n",
    "#     for c in tqdm(class_):\n",
    "#         if not os.path.exists(os.path.join(dirs, c)):\n",
    "#             os.makedirs(os.path.join(dirs, c))\n",
    "            \n",
    "            \n",
    "def rename_audio(class_):\n",
    "    \"\"\"Renames each audio in each class\"\"\"\n",
    "    for c in tqdm(class_):\n",
    "        path = os.path.join('./data', c)\n",
    "        for i, audio in enumerate(os.listdir(path)):\n",
    "            if audio.endswith('.wav'):\n",
    "                new_name = f'{c}_{i}.wav'\n",
    "                os.rename(os.path.join(path, audio),\n",
    "                          os.path.join(path, new_name))"
   ]
  },
  {
   "cell_type": "code",
   "execution_count": 21,
   "metadata": {
    "ExecuteTime": {
     "end_time": "2023-06-19T05:51:59.741883Z",
     "start_time": "2023-06-19T05:51:59.674443Z"
    }
   },
   "outputs": [
    {
     "name": "stderr",
     "output_type": "stream",
     "text": [
      "100%|██████████| 14/14 [00:00<00:00, 260.22it/s]\n"
     ]
    }
   ],
   "source": [
    "# create_classes(classes)\n",
    "rename_audio(classes)"
   ]
  },
  {
   "cell_type": "markdown",
   "metadata": {},
   "source": [
    "### Create a Dataset\n",
    "\n",
    "Create a subset of the dataset segmented into the different modelling stage : training, validation, and test."
   ]
  },
  {
   "cell_type": "code",
   "execution_count": 24,
   "metadata": {
    "ExecuteTime": {
     "end_time": "2023-06-19T05:52:14.931361Z",
     "start_time": "2023-06-19T05:52:14.912629Z"
    }
   },
   "outputs": [],
   "source": [
    "def create_dataset(src, dst, class_, dist=(.6,.2,.2), overwrite=False):\n",
    "    \"\"\"Copy images of class `class_` using `dist` from src to dst.\n",
    "    \"\"\"\n",
    "        \n",
    "    if os.path.exists(dst) and overwrite:\n",
    "        shutil.rmtree(dst)\n",
    "    \n",
    "    for c in tqdm(class_):\n",
    "        c_path = os.path.join(src, c)\n",
    "        n_data = len(os.listdir(c_path))\n",
    "        ns = list(map(lambda x: int(n_data*x), dist))\n",
    "        ns = [0]+[x+sum(ns[:i]) for i, x in enumerate(ns)]\n",
    "\n",
    "        \n",
    "        for i, stage in enumerate(['train', 'validation', 'test']):\n",
    "            stage_path = os.path.join(dst, stage)\n",
    "            if not os.path.exists(stage_path):\n",
    "                os.makedirs(stage_path)\n",
    "            elif os.path.exists(stage_path) and overwrite == False:\n",
    "                continue\n",
    "                \n",
    "            label_path = os.path.join(stage_path, c)\n",
    "            os.makedirs(label_path)\n",
    "            \n",
    "            for j in range(ns[i],ns[i+1]):\n",
    "                fname = f'{c}_{j}.wav'\n",
    "                src_file = os.path.join(c_path, fname)\n",
    "                dst_file = os.path.join(label_path, fname)\n",
    "                shutil.copyfile(src_file, dst_file)\n",
    "        \n",
    "    for stage in ['train', 'validation', 'test']:\n",
    "        for c in class_:\n",
    "            label_path = os.path.join(os.path.join(dst, stage), c)\n",
    "            n_data = len(os.listdir(label_path))\n",
    "            print(f'Total {stage.title()} {c.title()} Audio:', f'\\t{n_data}')"
   ]
  },
  {
   "cell_type": "code",
   "execution_count": 26,
   "metadata": {
    "ExecuteTime": {
     "end_time": "2023-06-19T05:52:28.775733Z",
     "start_time": "2023-06-19T05:52:28.299647Z"
    }
   },
   "outputs": [
    {
     "name": "stderr",
     "output_type": "stream",
     "text": [
      "100%|██████████| 14/14 [00:00<00:00, 33.38it/s]\n"
     ]
    },
    {
     "name": "stdout",
     "output_type": "stream",
     "text": [
      "Total Train Ar Audio: \t3\n",
      "Total Train Fa Audio: \t3\n",
      "Total Train Hi Audio: \t3\n",
      "Total Train Id Audio: \t2\n",
      "Total Train Ja Audio: \t3\n",
      "Total Train Kn Audio: \t3\n",
      "Total Train My Audio: \t3\n",
      "Total Train Ne Audio: \t3\n",
      "Total Train Pa Audio: \t3\n",
      "Total Train Si Audio: \t3\n",
      "Total Train Ta Audio: \t3\n",
      "Total Train Th Audio: \t3\n",
      "Total Train Ur Audio: \t3\n",
      "Total Train Zh Audio: \t3\n",
      "Total Validation Ar Audio: \t1\n",
      "Total Validation Fa Audio: \t1\n",
      "Total Validation Hi Audio: \t1\n",
      "Total Validation Id Audio: \t0\n",
      "Total Validation Ja Audio: \t1\n",
      "Total Validation Kn Audio: \t1\n",
      "Total Validation My Audio: \t1\n",
      "Total Validation Ne Audio: \t1\n",
      "Total Validation Pa Audio: \t1\n",
      "Total Validation Si Audio: \t1\n",
      "Total Validation Ta Audio: \t1\n",
      "Total Validation Th Audio: \t1\n",
      "Total Validation Ur Audio: \t1\n",
      "Total Validation Zh Audio: \t1\n",
      "Total Test Ar Audio: \t1\n",
      "Total Test Fa Audio: \t1\n",
      "Total Test Hi Audio: \t1\n",
      "Total Test Id Audio: \t0\n",
      "Total Test Ja Audio: \t1\n",
      "Total Test Kn Audio: \t1\n",
      "Total Test My Audio: \t1\n",
      "Total Test Ne Audio: \t1\n",
      "Total Test Pa Audio: \t1\n",
      "Total Test Si Audio: \t1\n",
      "Total Test Ta Audio: \t1\n",
      "Total Test Th Audio: \t1\n",
      "Total Test Ur Audio: \t1\n",
      "Total Test Zh Audio: \t1\n"
     ]
    }
   ],
   "source": [
    "src = 'data'\n",
    "dst = 'data/subset'\n",
    "create_dataset(src, dst, classes, overwrite=True)"
   ]
  },
  {
   "cell_type": "markdown",
   "metadata": {},
   "source": [
    "## Preparing the Paths and Metadata\n",
    "\n",
    "***\n",
    "Instatiate the subset directory paths and write the annotations"
   ]
  },
  {
   "cell_type": "code",
   "execution_count": 33,
   "metadata": {
    "ExecuteTime": {
     "end_time": "2023-06-19T05:54:41.651084Z",
     "start_time": "2023-06-19T05:54:41.641803Z"
    }
   },
   "outputs": [
    {
     "name": "stdout",
     "output_type": "stream",
     "text": [
      "Training Dataset Directory: \tdata/subset/train\n",
      "Validation Dataset Directory: \tdata/subset/validation\n",
      "Test Dataset Directory: \tdata/subset/test\n"
     ]
    }
   ],
   "source": [
    "# Initialize Directories\n",
    "audio_path = Path('data/subset')\n",
    "paths = {x: audio_path / x for x in ['train', 'validation', 'test']}\n",
    "\n",
    "print(f'Training Dataset Directory: \\t{paths[\"train\"]}')\n",
    "print(f'Validation Dataset Directory: \\t{paths[\"validation\"]}')\n",
    "print(f'Test Dataset Directory: \\t{paths[\"test\"]}')"
   ]
  },
  {
   "cell_type": "code",
   "execution_count": 34,
   "metadata": {
    "ExecuteTime": {
     "end_time": "2023-06-19T05:54:42.064204Z",
     "start_time": "2023-06-19T05:54:41.904534Z"
    }
   },
   "outputs": [
    {
     "name": "stderr",
     "output_type": "stream",
     "text": [
      "14it [00:00, 2168.64it/s]\n",
      "14it [00:00, 2345.34it/s]\n",
      "14it [00:00, 2183.72it/s]\n"
     ]
    }
   ],
   "source": [
    "def get_annotations(paths, classes=classes):\n",
    "    \"\"\"Parse audio files and get metadata\"\"\"\n",
    "    for i, (stage, path) in enumerate(paths.items()):\n",
    "        items = []\n",
    "        for j, c in tqdm(enumerate(classes)):\n",
    "            for audio in os.listdir(f'{path}/{c}'):\n",
    "                audio_path = f'{path}/{c}/{audio}'\n",
    "                \n",
    "                items.append({\n",
    "                    'path': audio_path,\n",
    "                    'label': c,\n",
    "                    'label_index': j,\n",
    "                })\n",
    "            \n",
    "        df = pd.DataFrame(items)\n",
    "        df.to_csv(f'./{stage}.csv', header=False)\n",
    "        \n",
    "get_annotations(paths, classes=classes)"
   ]
  }
 ],
 "metadata": {
  "kernelspec": {
   "display_name": "Python 3 (ipykernel)",
   "language": "python",
   "name": "python3"
  },
  "language_info": {
   "codemirror_mode": {
    "name": "ipython",
    "version": 3
   },
   "file_extension": ".py",
   "mimetype": "text/x-python",
   "name": "python",
   "nbconvert_exporter": "python",
   "pygments_lexer": "ipython3",
   "version": "3.10.10"
  },
  "toc": {
   "base_numbering": 1,
   "nav_menu": {},
   "number_sections": true,
   "sideBar": true,
   "skip_h1_title": false,
   "title_cell": "Table of Contents",
   "title_sidebar": "Contents",
   "toc_cell": false,
   "toc_position": {
    "height": "calc(100% - 180px)",
    "left": "10px",
    "top": "150px",
    "width": "165px"
   },
   "toc_section_display": true,
   "toc_window_display": false
  }
 },
 "nbformat": 4,
 "nbformat_minor": 1
}
